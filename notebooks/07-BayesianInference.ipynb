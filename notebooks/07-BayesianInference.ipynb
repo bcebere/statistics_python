{
 "cells": [
  {
   "cell_type": "markdown",
   "id": "agreed-sending",
   "metadata": {},
   "source": [
    "## Bayesian inference\n",
    "\n",
    "\n",
    "<img src=\"https://miro.medium.com/max/700/1*eWB1B9MCjG7ZNxXumpsblw.png\" alt=\"inference\" style=\"width: 300px;\"/>\n",
    "\n",
    "**Problem**: Imagine that you flip a coin with 0 on one and 1 on the other side a hundred times and write down the results. You end up with\n",
    "\n",
    "    1, 1, 0, 0, 0, 1, 1, 1, 1, 1, 0, 1, 0, 1, 0, 1, 0, 1, 1, 0, 1, 0, 1, 1, 1, 1, 1, 1, 1, 1, 1, 1, 1, 1, 1, 0, 0, 0, 1, 1, 0, 1, 0, 1, 1, 1, 0, 0, 1, 0, 0, 1, 1, 0, 1, 1, 1, 0, 0, 0, 1, 0, 1, 0, 0, 0, 0, 0, 0, 1, 1, 1, 1, 1, 0, 0, 0, 0, 0, 1, 0, 1, 1, 1, 0, 0, 1, 0, 1, 1, 1, 1, 1, 0, 0, 0, 1, 0, 1, 0\n",
    "\n",
    "These are 57 ones and 43 zeroes. We want to answer the following question:\n",
    "\n",
    "    What is the probability θ of receiving 1?\n",
    "    \n",
    "    "
   ]
  },
  {
   "cell_type": "markdown",
   "id": "diagnostic-tension",
   "metadata": {},
   "source": [
    "## Likelihood\n",
    "\n",
    "Bernoulli distributed\n",
    "\n",
    "\n",
    "<img src=\"https://miro.medium.com/max/700/1*SjpXJWV8iWbTHmKajYW55A.png\" alt=\"Likelihood\" style=\"width: 300px;\"/>"
   ]
  },
  {
   "cell_type": "markdown",
   "id": "massive-nowhere",
   "metadata": {},
   "source": [
    "## Prior\n",
    "\n",
    "Beta(2, 2)\n",
    "\n",
    "<img src=\"https://miro.medium.com/max/700/1*w5MW91IXnRH8_KCFC9lW2g.png\" alt=\"Prior\" style=\"width: 200px;\"/>"
   ]
  },
  {
   "cell_type": "markdown",
   "id": "eight-international",
   "metadata": {},
   "source": [
    "## Setup"
   ]
  },
  {
   "cell_type": "code",
   "execution_count": 17,
   "id": "supposed-polyester",
   "metadata": {},
   "outputs": [
    {
     "name": "stdout",
     "output_type": "stream",
     "text": [
      "Looking in links: file:///home/bcebere/.cache/pip/wheelhouse\n",
      "Requirement already satisfied: pymc3 in /home/bcebere/anaconda3/envs/vds/lib/python3.8/site-packages (3.11.1)\n",
      "Requirement already satisfied: aesara>=2.0.1 in /home/bcebere/anaconda3/envs/vds/lib/python3.8/site-packages (from pymc3) (2.0.4)\n",
      "Requirement already satisfied: typing-extensions>=3.7.4 in /home/bcebere/anaconda3/envs/vds/lib/python3.8/site-packages (from pymc3) (3.7.4.3)\n",
      "Requirement already satisfied: numpy>=1.15.0 in /home/bcebere/anaconda3/envs/vds/lib/python3.8/site-packages (from pymc3) (1.19.5)\n",
      "Requirement already satisfied: pandas>=0.24.0 in /home/bcebere/anaconda3/envs/vds/lib/python3.8/site-packages (from pymc3) (1.2.3)\n",
      "Requirement already satisfied: scipy>=1.2.0 in /home/bcebere/anaconda3/envs/vds/lib/python3.8/site-packages (from pymc3) (1.6.2)\n",
      "Requirement already satisfied: dill in /home/bcebere/anaconda3/envs/vds/lib/python3.8/site-packages (from pymc3) (0.3.3)\n",
      "Requirement already satisfied: fastprogress>=0.2.0 in /home/bcebere/anaconda3/envs/vds/lib/python3.8/site-packages (from pymc3) (1.0.0)\n",
      "Requirement already satisfied: cachetools>=4.2.1 in /home/bcebere/anaconda3/envs/vds/lib/python3.8/site-packages (from pymc3) (4.2.1)\n",
      "Requirement already satisfied: arviz>=0.11.1 in /home/bcebere/anaconda3/envs/vds/lib/python3.8/site-packages (from pymc3) (0.11.2)\n",
      "Requirement already satisfied: patsy>=0.5.1 in /home/bcebere/anaconda3/envs/vds/lib/python3.8/site-packages (from pymc3) (0.5.1)\n",
      "Requirement already satisfied: filelock in /home/bcebere/anaconda3/envs/vds/lib/python3.8/site-packages (from aesara>=2.0.1->pymc3) (3.0.12)\n",
      "Requirement already satisfied: xarray>=0.16.1 in /home/bcebere/anaconda3/envs/vds/lib/python3.8/site-packages (from arviz>=0.11.1->pymc3) (0.17.0)\n",
      "Requirement already satisfied: setuptools>=38.4 in /home/bcebere/anaconda3/envs/vds/lib/python3.8/site-packages (from arviz>=0.11.1->pymc3) (52.0.0.post20210125)\n",
      "Requirement already satisfied: matplotlib>=3.0 in /home/bcebere/anaconda3/envs/vds/lib/python3.8/site-packages (from arviz>=0.11.1->pymc3) (3.4.0)\n",
      "Requirement already satisfied: packaging in /home/bcebere/anaconda3/envs/vds/lib/python3.8/site-packages (from arviz>=0.11.1->pymc3) (20.9)\n",
      "Requirement already satisfied: netcdf4 in /home/bcebere/anaconda3/envs/vds/lib/python3.8/site-packages (from arviz>=0.11.1->pymc3) (1.5.6)\n",
      "Requirement already satisfied: kiwisolver>=1.0.1 in /home/bcebere/anaconda3/envs/vds/lib/python3.8/site-packages (from matplotlib>=3.0->arviz>=0.11.1->pymc3) (1.3.1)\n",
      "Requirement already satisfied: cycler>=0.10 in /home/bcebere/anaconda3/envs/vds/lib/python3.8/site-packages (from matplotlib>=3.0->arviz>=0.11.1->pymc3) (0.10.0)\n",
      "Requirement already satisfied: pillow>=6.2.0 in /home/bcebere/anaconda3/envs/vds/lib/python3.8/site-packages (from matplotlib>=3.0->arviz>=0.11.1->pymc3) (8.1.2)\n",
      "Requirement already satisfied: pyparsing>=2.2.1 in /home/bcebere/anaconda3/envs/vds/lib/python3.8/site-packages (from matplotlib>=3.0->arviz>=0.11.1->pymc3) (2.4.7)\n",
      "Requirement already satisfied: python-dateutil>=2.7 in /home/bcebere/anaconda3/envs/vds/lib/python3.8/site-packages (from matplotlib>=3.0->arviz>=0.11.1->pymc3) (2.8.1)\n",
      "Requirement already satisfied: six in /home/bcebere/anaconda3/envs/vds/lib/python3.8/site-packages (from cycler>=0.10->matplotlib>=3.0->arviz>=0.11.1->pymc3) (1.15.0)\n",
      "Requirement already satisfied: pytz>=2017.3 in /home/bcebere/anaconda3/envs/vds/lib/python3.8/site-packages (from pandas>=0.24.0->pymc3) (2021.1)\n",
      "Requirement already satisfied: cftime in /home/bcebere/anaconda3/envs/vds/lib/python3.8/site-packages (from netcdf4->arviz>=0.11.1->pymc3) (1.4.1)\n",
      "Looking in links: file:///home/bcebere/.cache/pip/wheelhouse\n",
      "Requirement already satisfied: arviz in /home/bcebere/anaconda3/envs/vds/lib/python3.8/site-packages (0.11.2)\n",
      "Requirement already satisfied: pandas>=0.23 in /home/bcebere/anaconda3/envs/vds/lib/python3.8/site-packages (from arviz) (1.2.3)\n",
      "Requirement already satisfied: scipy>=0.19 in /home/bcebere/anaconda3/envs/vds/lib/python3.8/site-packages (from arviz) (1.6.2)\n",
      "Requirement already satisfied: matplotlib>=3.0 in /home/bcebere/anaconda3/envs/vds/lib/python3.8/site-packages (from arviz) (3.4.0)\n",
      "Requirement already satisfied: numpy>=1.12 in /home/bcebere/anaconda3/envs/vds/lib/python3.8/site-packages (from arviz) (1.19.5)\n",
      "Requirement already satisfied: typing-extensions<4,>=3.7.4.3 in /home/bcebere/anaconda3/envs/vds/lib/python3.8/site-packages (from arviz) (3.7.4.3)\n",
      "Requirement already satisfied: netcdf4 in /home/bcebere/anaconda3/envs/vds/lib/python3.8/site-packages (from arviz) (1.5.6)\n",
      "Requirement already satisfied: packaging in /home/bcebere/anaconda3/envs/vds/lib/python3.8/site-packages (from arviz) (20.9)\n",
      "Requirement already satisfied: xarray>=0.16.1 in /home/bcebere/anaconda3/envs/vds/lib/python3.8/site-packages (from arviz) (0.17.0)\n",
      "Requirement already satisfied: setuptools>=38.4 in /home/bcebere/anaconda3/envs/vds/lib/python3.8/site-packages (from arviz) (52.0.0.post20210125)\n",
      "Requirement already satisfied: cycler>=0.10 in /home/bcebere/anaconda3/envs/vds/lib/python3.8/site-packages (from matplotlib>=3.0->arviz) (0.10.0)\n",
      "Requirement already satisfied: python-dateutil>=2.7 in /home/bcebere/anaconda3/envs/vds/lib/python3.8/site-packages (from matplotlib>=3.0->arviz) (2.8.1)\n",
      "Requirement already satisfied: kiwisolver>=1.0.1 in /home/bcebere/anaconda3/envs/vds/lib/python3.8/site-packages (from matplotlib>=3.0->arviz) (1.3.1)\n",
      "Requirement already satisfied: pyparsing>=2.2.1 in /home/bcebere/anaconda3/envs/vds/lib/python3.8/site-packages (from matplotlib>=3.0->arviz) (2.4.7)\n",
      "Requirement already satisfied: pillow>=6.2.0 in /home/bcebere/anaconda3/envs/vds/lib/python3.8/site-packages (from matplotlib>=3.0->arviz) (8.1.2)\n",
      "Requirement already satisfied: six in /home/bcebere/anaconda3/envs/vds/lib/python3.8/site-packages (from cycler>=0.10->matplotlib>=3.0->arviz) (1.15.0)\n",
      "Requirement already satisfied: pytz>=2017.3 in /home/bcebere/anaconda3/envs/vds/lib/python3.8/site-packages (from pandas>=0.23->arviz) (2021.1)\n",
      "Requirement already satisfied: cftime in /home/bcebere/anaconda3/envs/vds/lib/python3.8/site-packages (from netcdf4->arviz) (1.4.1)\n"
     ]
    }
   ],
   "source": [
    "!pip install pymc3\n",
    "!pip install arviz\n",
    "\n",
    "import warnings\n",
    "\n",
    "import pymc3 as pm\n",
    "import arviz as az\n",
    "\n",
    "warnings.simplefilter(action=\"ignore\", category=FutureWarning)"
   ]
  },
  {
   "cell_type": "code",
   "execution_count": 18,
   "id": "published-stand",
   "metadata": {},
   "outputs": [],
   "source": [
    "tosses = [\n",
    "    1, 1, 0, 0, 0, 1, 1, 1, 1, 1,\n",
    "    0, 1, 0, 1, 0, 1, 0, 1, 1, 0,\n",
    "    1, 0, 1, 1, 1, 1, 1, 1, 1, 1,\n",
    "    1, 1, 1, 1, 1, 0, 0, 0, 1, 1,\n",
    "    0, 1, 0, 1, 1, 1, 0, 0, 1, 0,\n",
    "    0, 1, 1, 0, 1, 1, 1, 0, 0, 0,\n",
    "    1, 0, 1, 0, 0, 0, 0, 0, 0, 1,\n",
    "    1, 1, 1, 1, 0, 0, 0, 0, 0, 1,\n",
    "    0, 1, 1, 1, 0, 0, 1, 0, 1, 1,\n",
    "    1, 1, 1, 0, 0, 0, 1, 0, 1, 0\n",
    "]"
   ]
  },
  {
   "cell_type": "code",
   "execution_count": 19,
   "id": "surface-extreme",
   "metadata": {},
   "outputs": [
    {
     "name": "stderr",
     "output_type": "stream",
     "text": [
      "/home/bcebere/anaconda3/envs/vds/lib/python3.8/site-packages/aesara/graph/fg.py:500: UserWarning: Variable Elemwise{switch,no_inplace}.0 cannot be replaced; it isn't in the FunctionGraph\n",
      "  warnings.warn(\n",
      "Auto-assigning NUTS sampler...\n",
      "Initializing NUTS using jitter+adapt_diag...\n",
      "/home/bcebere/anaconda3/envs/vds/lib/python3.8/site-packages/aesara/graph/fg.py:500: UserWarning: Variable Elemwise{Switch}.0 cannot be replaced; it isn't in the FunctionGraph\n",
      "  warnings.warn(\n",
      "Multiprocess sampling (2 chains in 2 jobs)\n",
      "NUTS: [theta]\n"
     ]
    },
    {
     "data": {
      "text/html": [
       "\n",
       "    <div>\n",
       "        <style>\n",
       "            /* Turns off some styling */\n",
       "            progress {\n",
       "                /* gets rid of default border in Firefox and Opera. */\n",
       "                border: none;\n",
       "                /* Needs to be in here for Safari polyfill so background images work as expected. */\n",
       "                background-size: auto;\n",
       "            }\n",
       "            .progress-bar-interrupted, .progress-bar-interrupted::-webkit-progress-bar {\n",
       "                background: #F44336;\n",
       "            }\n",
       "        </style>\n",
       "      <progress value='4000' class='' max='4000' style='width:300px; height:20px; vertical-align: middle;'></progress>\n",
       "      100.00% [4000/4000 00:01<00:00 Sampling 2 chains, 0 divergences]\n",
       "    </div>\n",
       "    "
      ],
      "text/plain": [
       "<IPython.core.display.HTML object>"
      ]
     },
     "metadata": {},
     "output_type": "display_data"
    },
    {
     "name": "stderr",
     "output_type": "stream",
     "text": [
      "Sampling 2 chains for 1_000 tune and 1_000 draw iterations (2_000 + 2_000 draws total) took 2 seconds.\n"
     ]
    }
   ],
   "source": [
    "with pm.Model() as model:\n",
    "    # define the prior\n",
    "    theta = pm.Beta('theta', 2, 2)\n",
    "    \n",
    "    # define the likelihood\n",
    "    data = pm.Bernoulli('data', theta, observed=tosses)\n",
    "    \n",
    "    # get the samples\n",
    "    trace = pm.sample()"
   ]
  },
  {
   "cell_type": "code",
   "execution_count": 20,
   "id": "included-registration",
   "metadata": {},
   "outputs": [
    {
     "name": "stderr",
     "output_type": "stream",
     "text": [
      "/home/bcebere/anaconda3/envs/vds/lib/python3.8/site-packages/aesara/graph/fg.py:500: UserWarning: Variable Elemwise{switch,no_inplace}.0 cannot be replaced; it isn't in the FunctionGraph\n",
      "  warnings.warn(\n",
      "/home/bcebere/anaconda3/envs/vds/lib/python3.8/site-packages/aesara/graph/fg.py:500: UserWarning: Variable Elemwise{switch,no_inplace}.0 cannot be replaced; it isn't in the FunctionGraph\n",
      "  warnings.warn(\n"
     ]
    },
    {
     "data": {
      "text/plain": [
       "<AxesSubplot:title={'center':'theta'}>"
      ]
     },
     "execution_count": 20,
     "metadata": {},
     "output_type": "execute_result"
    },
    {
     "data": {
      "image/png": "[encoded data removed]",
      "text/plain": [
       "<Figure size 432x288 with 1 Axes>"
      ]
     },
     "metadata": {
      "needs_background": "light"
     },
     "output_type": "display_data"
    }
   ],
   "source": [
    "az.summary(trace)\n",
    "az.plot_posterior(trace, hdi_prob=0.99)"
   ]
  },
  {
   "cell_type": "markdown",
   "id": "silent-outdoors",
   "metadata": {},
   "source": [
    "### TLDR\n",
    "If we are expected to give a single number, we would go for 57%. Otherwise, we are able to say that it’s somewhere between 44% and 68% with a probability of 99%."
   ]
  },
  {
   "cell_type": "markdown",
   "id": "intellectual-momentum",
   "metadata": {},
   "source": [
    "### References\n",
    "\n",
    "1. https://towardsdatascience.com/conducting-bayesian-inference-in-python-using-pymc3-d407f8d934a5"
   ]
  },
  {
   "cell_type": "code",
   "execution_count": null,
   "id": "indoor-motivation",
   "metadata": {},
   "outputs": [],
   "source": []
  }
 ],
 "metadata": {
  "kernelspec": {
   "display_name": "Python 3",
   "language": "python",
   "name": "python3"
  },
  "language_info": {
   "codemirror_mode": {
    "name": "ipython",
    "version": 3
   },
   "file_extension": ".py",
   "mimetype": "text/x-python",
   "name": "python",
   "nbconvert_exporter": "python",
   "pygments_lexer": "ipython3",
   "version": "3.8.8"
  }
 },
 "nbformat": 4,
 "nbformat_minor": 5
}
